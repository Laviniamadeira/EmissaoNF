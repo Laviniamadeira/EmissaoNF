{
 "cells": [
  {
   "cell_type": "code",
   "execution_count": 116,
   "metadata": {},
   "outputs": [],
   "source": [
    "from selenium import webdriver\n",
    "from selenium.webdriver.chrome.service import Service\n",
    "from webdriver_manager.chrome import ChromeDriverManager\n",
    "from selenium.webdriver.common.by import By\n",
    "import os"
   ]
  },
  {
   "cell_type": "code",
   "execution_count": 117,
   "metadata": {},
   "outputs": [],
   "source": [
    "#entrar na página de login\n",
    "navegador = webdriver.Chrome(service=servico)\n",
    "caminho = os.getcwd()\n",
    "arquivo = caminho + r\"\\login.html\"\n",
    "navegador.get(arquivo)\n",
    "\n",
    "#preencher o login e a senha\n",
    "navegador.find_element(By.XPATH,'/html/body/div/form/input[1]').send_keys('lucas@gmail.com')\n",
    "navegador.find_element(By.XPATH,'/html/body/div/form/input[2]').send_keys(12345)\n",
    "\n",
    "#clicar no botao para fazer o login\n",
    "navegador.find_element(By.XPATH,'/html/body/div/form/button').click()\n",
    "\n",
    "#preencher os dados da NF \n",
    "navegador.find_element(By.XPATH,'//*[@id=\"nome\"]').send_keys('Lucas')\n",
    "navegador.find_element(By.NAME,'endereco').send_keys('Endereço ')\n",
    "navegador.find_element(By.NAME,'bairro').send_keys('Bairro')\n",
    "navegador.find_element(By.NAME,'municipio').send_keys('Município ')\n",
    "navegador.find_element(By.NAME,'cep').send_keys('CEP')\n",
    "navegador.find_element(By.NAME,'uf').send_keys('SP')\n",
    "navegador.find_element(By.NAME,'cnpj').send_keys(11999)\n",
    "texto='olá '\n",
    "navegador.find_element(By.NAME,'inscricao').send_keys(texto)\n",
    "navegador.find_element(By.NAME,'descricao').send_keys('produto')\n",
    "navegador.find_element(By.XPATH,'//*[@id=\"formulario\"]/input[9]').send_keys(10)\n",
    "navegador.find_element(By.NAME,'valor_unitario').send_keys(5)\n",
    "navegador.find_element(By.NAME,'total').send_keys('300')\n",
    "\n",
    "#clicar em emitir\n",
    "navegador.find_element(By.XPATH,'//*[@id=\"formulario\"]/button').click()"
   ]
  }
 ],
 "metadata": {
  "kernelspec": {
   "display_name": "Python 3",
   "language": "python",
   "name": "python3"
  },
  "language_info": {
   "codemirror_mode": {
    "name": "ipython",
    "version": 3
   },
   "file_extension": ".py",
   "mimetype": "text/x-python",
   "name": "python",
   "nbconvert_exporter": "python",
   "pygments_lexer": "ipython3",
   "version": "3.12.2"
  }
 },
 "nbformat": 4,
 "nbformat_minor": 2
}
